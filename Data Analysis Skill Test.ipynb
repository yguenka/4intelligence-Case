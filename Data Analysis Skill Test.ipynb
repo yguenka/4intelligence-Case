{
 "cells": [
  {
   "cell_type": "markdown",
   "metadata": {},
   "source": [
    "# Libraries"
   ]
  },
  {
   "cell_type": "code",
   "execution_count": 1,
   "metadata": {
    "ExecuteTime": {
     "end_time": "2020-07-06T19:05:48.081056Z",
     "start_time": "2020-07-06T19:05:19.987826Z"
    }
   },
   "outputs": [
    {
     "name": "stderr",
     "output_type": "stream",
     "text": [
      "Importing plotly failed. Interactive plots will not work.\n"
     ]
    }
   ],
   "source": [
    "import pandas as pd\n",
    "import matplotlib.pyplot as plt\n",
    "from datetime import datetime\n",
    "import statsmodels.api as sm\n",
    "from fbprophet import Prophet"
   ]
  },
  {
   "cell_type": "markdown",
   "metadata": {},
   "source": [
    "# Case 1"
   ]
  },
  {
   "cell_type": "code",
   "execution_count": 22,
   "metadata": {
    "ExecuteTime": {
     "end_time": "2020-07-06T19:13:19.335194Z",
     "start_time": "2020-07-06T19:13:19.325219Z"
    }
   },
   "outputs": [],
   "source": [
    "df = pd.read_csv('TFP.csv')"
   ]
  },
  {
   "cell_type": "code",
   "execution_count": 23,
   "metadata": {
    "ExecuteTime": {
     "end_time": "2020-07-06T19:13:19.563132Z",
     "start_time": "2020-07-06T19:13:19.540169Z"
    }
   },
   "outputs": [
    {
     "data": {
      "text/html": [
       "<div>\n",
       "<style scoped>\n",
       "    .dataframe tbody tr th:only-of-type {\n",
       "        vertical-align: middle;\n",
       "    }\n",
       "\n",
       "    .dataframe tbody tr th {\n",
       "        vertical-align: top;\n",
       "    }\n",
       "\n",
       "    .dataframe thead th {\n",
       "        text-align: right;\n",
       "    }\n",
       "</style>\n",
       "<table border=\"1\" class=\"dataframe\">\n",
       "  <thead>\n",
       "    <tr style=\"text-align: right;\">\n",
       "      <th></th>\n",
       "      <th>isocode</th>\n",
       "      <th>year</th>\n",
       "      <th>rtfpna</th>\n",
       "    </tr>\n",
       "  </thead>\n",
       "  <tbody>\n",
       "    <tr>\n",
       "      <th>0</th>\n",
       "      <td>USA</td>\n",
       "      <td>1950</td>\n",
       "      <td>0.617148</td>\n",
       "    </tr>\n",
       "    <tr>\n",
       "      <th>1</th>\n",
       "      <td>USA</td>\n",
       "      <td>1951</td>\n",
       "      <td>0.629588</td>\n",
       "    </tr>\n",
       "    <tr>\n",
       "      <th>2</th>\n",
       "      <td>USA</td>\n",
       "      <td>1952</td>\n",
       "      <td>0.638451</td>\n",
       "    </tr>\n",
       "    <tr>\n",
       "      <th>3</th>\n",
       "      <td>USA</td>\n",
       "      <td>1953</td>\n",
       "      <td>0.651858</td>\n",
       "    </tr>\n",
       "    <tr>\n",
       "      <th>4</th>\n",
       "      <td>USA</td>\n",
       "      <td>1954</td>\n",
       "      <td>0.646179</td>\n",
       "    </tr>\n",
       "    <tr>\n",
       "      <th>...</th>\n",
       "      <td>...</td>\n",
       "      <td>...</td>\n",
       "      <td>...</td>\n",
       "    </tr>\n",
       "    <tr>\n",
       "      <th>181</th>\n",
       "      <td>MEX</td>\n",
       "      <td>2007</td>\n",
       "      <td>1.013673</td>\n",
       "    </tr>\n",
       "    <tr>\n",
       "      <th>182</th>\n",
       "      <td>MEX</td>\n",
       "      <td>2008</td>\n",
       "      <td>0.991548</td>\n",
       "    </tr>\n",
       "    <tr>\n",
       "      <th>183</th>\n",
       "      <td>MEX</td>\n",
       "      <td>2009</td>\n",
       "      <td>0.915879</td>\n",
       "    </tr>\n",
       "    <tr>\n",
       "      <th>184</th>\n",
       "      <td>MEX</td>\n",
       "      <td>2010</td>\n",
       "      <td>0.941604</td>\n",
       "    </tr>\n",
       "    <tr>\n",
       "      <th>185</th>\n",
       "      <td>MEX</td>\n",
       "      <td>2011</td>\n",
       "      <td>0.955766</td>\n",
       "    </tr>\n",
       "  </tbody>\n",
       "</table>\n",
       "<p>186 rows × 3 columns</p>\n",
       "</div>"
      ],
      "text/plain": [
       "    isocode  year    rtfpna\n",
       "0       USA  1950  0.617148\n",
       "1       USA  1951  0.629588\n",
       "2       USA  1952  0.638451\n",
       "3       USA  1953  0.651858\n",
       "4       USA  1954  0.646179\n",
       "..      ...   ...       ...\n",
       "181     MEX  2007  1.013673\n",
       "182     MEX  2008  0.991548\n",
       "183     MEX  2009  0.915879\n",
       "184     MEX  2010  0.941604\n",
       "185     MEX  2011  0.955766\n",
       "\n",
       "[186 rows x 3 columns]"
      ]
     },
     "execution_count": 23,
     "metadata": {},
     "output_type": "execute_result"
    }
   ],
   "source": [
    "df"
   ]
  },
  {
   "cell_type": "code",
   "execution_count": 24,
   "metadata": {
    "ExecuteTime": {
     "end_time": "2020-07-06T19:13:19.755567Z",
     "start_time": "2020-07-06T19:13:19.750577Z"
    }
   },
   "outputs": [],
   "source": [
    "mask1 = df['isocode'] == 'USA'\n",
    "mask2 = df['isocode'] == 'CAN'\n",
    "mask3 = df['isocode'] == 'MEX'"
   ]
  },
  {
   "cell_type": "code",
   "execution_count": 31,
   "metadata": {
    "ExecuteTime": {
     "end_time": "2020-07-06T19:14:27.067550Z",
     "start_time": "2020-07-06T19:14:27.057578Z"
    }
   },
   "outputs": [],
   "source": [
    "df_usa = df[mask1].drop(columns=['isocode'])\n",
    "df_can = df[mask2].drop(columns=['isocode'])\n",
    "df_mex = df[mask3].drop(columns=['isocode'])\n"
   ]
  },
  {
   "cell_type": "code",
   "execution_count": 32,
   "metadata": {
    "ExecuteTime": {
     "end_time": "2020-07-06T19:14:27.690932Z",
     "start_time": "2020-07-06T19:14:27.463512Z"
    }
   },
   "outputs": [
    {
     "data": {
      "image/png": "[encoded data removed]",
      "text/plain": [
       "<Figure size 432x288 with 1 Axes>"
      ]
     },
     "metadata": {
      "needs_background": "light"
     },
     "output_type": "display_data"
    }
   ],
   "source": [
    "plt.plot(df_usa['year'], df_usa['rtfpna'], 'r-', df_can['year'], df_can['rtfpna'], 'blue', df_mex['year'], df_mex['rtfpna'], 'green')\n",
    "plt.show()"
   ]
  },
  {
   "cell_type": "markdown",
   "metadata": {},
   "source": [
    "## Forecast"
   ]
  },
  {
   "cell_type": "code",
   "execution_count": 33,
   "metadata": {
    "ExecuteTime": {
     "end_time": "2020-07-06T19:14:28.719688Z",
     "start_time": "2020-07-06T19:14:28.708720Z"
    }
   },
   "outputs": [],
   "source": [
    "df_usa = df_usa.rename({'year':'ds','rtfpna':'y'},axis=1)\n",
    "df_can = df_can.rename({'year':'ds','rtfpna':'y'},axis=1)\n",
    "df_mex = df_mex.rename({'year':'ds','rtfpna':'y'},axis=1)"
   ]
  },
  {
   "cell_type": "markdown",
   "metadata": {},
   "source": [
    "### USA"
   ]
  },
  {
   "cell_type": "code",
   "execution_count": 36,
   "metadata": {
    "ExecuteTime": {
     "end_time": "2020-07-06T19:15:11.999557Z",
     "start_time": "2020-07-06T19:15:11.849517Z"
    }
   },
   "outputs": [],
   "source": [
    "df_usa.ds = pd.to_datetime(df_usa.ds, format='%Y')"
   ]
  },
  {
   "cell_type": "code",
   "execution_count": 37,
   "metadata": {
    "ExecuteTime": {
     "end_time": "2020-07-06T19:15:15.071513Z",
     "start_time": "2020-07-06T19:15:13.058819Z"
    }
   },
   "outputs": [
    {
     "name": "stderr",
     "output_type": "stream",
     "text": [
      "INFO:fbprophet:Disabling weekly seasonality. Run prophet with weekly_seasonality=True to override this.\n",
      "INFO:fbprophet:Disabling daily seasonality. Run prophet with daily_seasonality=True to override this.\n"
     ]
    },
    {
     "data": {
      "text/plain": [
       "<fbprophet.forecaster.Prophet at 0x201a17546c8>"
      ]
     },
     "execution_count": 37,
     "metadata": {},
     "output_type": "execute_result"
    }
   ],
   "source": [
    "model = Prophet()\n",
    "model.fit(df_usa)"
   ]
  },
  {
   "cell_type": "code",
   "execution_count": 38,
   "metadata": {
    "ExecuteTime": {
     "end_time": "2020-07-06T19:15:24.709873Z",
     "start_time": "2020-07-06T19:15:21.031121Z"
    }
   },
   "outputs": [
    {
     "data": {
      "image/png": "[encoded data removed]",
      "text/plain": [
       "<Figure size 720x432 with 1 Axes>"
      ]
     },
     "metadata": {},
     "output_type": "display_data"
    },
    {
     "data": {
      "image/png": "[encoded data removed]",
      "text/plain": [
       "<Figure size 648x432 with 2 Axes>"
      ]
     },
     "metadata": {},
     "output_type": "display_data"
    }
   ],
   "source": [
    "future = model.make_future_dataframe(periods=10,freq='Y')\n",
    "forecast = model.predict(future)\n",
    "forecast_plot = model.plot(forecast)\n",
    "components_plot_forecast = model.plot_components(forecast)"
   ]
  },
  {
   "cell_type": "code",
   "execution_count": 39,
   "metadata": {
    "ExecuteTime": {
     "end_time": "2020-07-06T19:33:27.031405Z",
     "start_time": "2020-07-06T19:33:26.723742Z"
    }
   },
   "outputs": [
    {
     "data": {
      "text/html": [
       "<div>\n",
       "<style scoped>\n",
       "    .dataframe tbody tr th:only-of-type {\n",
       "        vertical-align: middle;\n",
       "    }\n",
       "\n",
       "    .dataframe tbody tr th {\n",
       "        vertical-align: top;\n",
       "    }\n",
       "\n",
       "    .dataframe thead th {\n",
       "        text-align: right;\n",
       "    }\n",
       "</style>\n",
       "<table border=\"1\" class=\"dataframe\">\n",
       "  <thead>\n",
       "    <tr style=\"text-align: right;\">\n",
       "      <th></th>\n",
       "      <th>ds</th>\n",
       "      <th>trend</th>\n",
       "      <th>yhat_lower</th>\n",
       "      <th>yhat_upper</th>\n",
       "      <th>trend_lower</th>\n",
       "      <th>trend_upper</th>\n",
       "      <th>additive_terms</th>\n",
       "      <th>additive_terms_lower</th>\n",
       "      <th>additive_terms_upper</th>\n",
       "      <th>yearly</th>\n",
       "      <th>yearly_lower</th>\n",
       "      <th>yearly_upper</th>\n",
       "      <th>multiplicative_terms</th>\n",
       "      <th>multiplicative_terms_lower</th>\n",
       "      <th>multiplicative_terms_upper</th>\n",
       "      <th>yhat</th>\n",
       "    </tr>\n",
       "  </thead>\n",
       "  <tbody>\n",
       "    <tr>\n",
       "      <th>0</th>\n",
       "      <td>1950-01-01</td>\n",
       "      <td>0.199012</td>\n",
       "      <td>0.600812</td>\n",
       "      <td>0.634553</td>\n",
       "      <td>0.199012</td>\n",
       "      <td>0.199012</td>\n",
       "      <td>0.419599</td>\n",
       "      <td>0.419599</td>\n",
       "      <td>0.419599</td>\n",
       "      <td>0.419599</td>\n",
       "      <td>0.419599</td>\n",
       "      <td>0.419599</td>\n",
       "      <td>0.0</td>\n",
       "      <td>0.0</td>\n",
       "      <td>0.0</td>\n",
       "      <td>0.618611</td>\n",
       "    </tr>\n",
       "    <tr>\n",
       "      <th>1</th>\n",
       "      <td>1951-01-01</td>\n",
       "      <td>0.206123</td>\n",
       "      <td>0.609234</td>\n",
       "      <td>0.641968</td>\n",
       "      <td>0.206123</td>\n",
       "      <td>0.206123</td>\n",
       "      <td>0.419816</td>\n",
       "      <td>0.419816</td>\n",
       "      <td>0.419816</td>\n",
       "      <td>0.419816</td>\n",
       "      <td>0.419816</td>\n",
       "      <td>0.419816</td>\n",
       "      <td>0.0</td>\n",
       "      <td>0.0</td>\n",
       "      <td>0.0</td>\n",
       "      <td>0.625940</td>\n",
       "    </tr>\n",
       "    <tr>\n",
       "      <th>2</th>\n",
       "      <td>1952-01-01</td>\n",
       "      <td>0.213234</td>\n",
       "      <td>0.619470</td>\n",
       "      <td>0.652796</td>\n",
       "      <td>0.213234</td>\n",
       "      <td>0.213234</td>\n",
       "      <td>0.423444</td>\n",
       "      <td>0.423444</td>\n",
       "      <td>0.423444</td>\n",
       "      <td>0.423444</td>\n",
       "      <td>0.423444</td>\n",
       "      <td>0.423444</td>\n",
       "      <td>0.0</td>\n",
       "      <td>0.0</td>\n",
       "      <td>0.0</td>\n",
       "      <td>0.636678</td>\n",
       "    </tr>\n",
       "    <tr>\n",
       "      <th>3</th>\n",
       "      <td>1953-01-01</td>\n",
       "      <td>0.220365</td>\n",
       "      <td>0.625847</td>\n",
       "      <td>0.659211</td>\n",
       "      <td>0.220365</td>\n",
       "      <td>0.220365</td>\n",
       "      <td>0.422795</td>\n",
       "      <td>0.422795</td>\n",
       "      <td>0.422795</td>\n",
       "      <td>0.422795</td>\n",
       "      <td>0.422795</td>\n",
       "      <td>0.422795</td>\n",
       "      <td>0.0</td>\n",
       "      <td>0.0</td>\n",
       "      <td>0.0</td>\n",
       "      <td>0.643160</td>\n",
       "    </tr>\n",
       "    <tr>\n",
       "      <th>4</th>\n",
       "      <td>1954-01-01</td>\n",
       "      <td>0.227476</td>\n",
       "      <td>0.630512</td>\n",
       "      <td>0.663562</td>\n",
       "      <td>0.227476</td>\n",
       "      <td>0.227476</td>\n",
       "      <td>0.419599</td>\n",
       "      <td>0.419599</td>\n",
       "      <td>0.419599</td>\n",
       "      <td>0.419599</td>\n",
       "      <td>0.419599</td>\n",
       "      <td>0.419599</td>\n",
       "      <td>0.0</td>\n",
       "      <td>0.0</td>\n",
       "      <td>0.0</td>\n",
       "      <td>0.647075</td>\n",
       "    </tr>\n",
       "    <tr>\n",
       "      <th>...</th>\n",
       "      <td>...</td>\n",
       "      <td>...</td>\n",
       "      <td>...</td>\n",
       "      <td>...</td>\n",
       "      <td>...</td>\n",
       "      <td>...</td>\n",
       "      <td>...</td>\n",
       "      <td>...</td>\n",
       "      <td>...</td>\n",
       "      <td>...</td>\n",
       "      <td>...</td>\n",
       "      <td>...</td>\n",
       "      <td>...</td>\n",
       "      <td>...</td>\n",
       "      <td>...</td>\n",
       "      <td>...</td>\n",
       "    </tr>\n",
       "    <tr>\n",
       "      <th>67</th>\n",
       "      <td>2016-12-31</td>\n",
       "      <td>0.673013</td>\n",
       "      <td>1.085980</td>\n",
       "      <td>1.121532</td>\n",
       "      <td>0.668381</td>\n",
       "      <td>0.677630</td>\n",
       "      <td>0.430472</td>\n",
       "      <td>0.430472</td>\n",
       "      <td>0.430472</td>\n",
       "      <td>0.430472</td>\n",
       "      <td>0.430472</td>\n",
       "      <td>0.430472</td>\n",
       "      <td>0.0</td>\n",
       "      <td>0.0</td>\n",
       "      <td>0.0</td>\n",
       "      <td>1.103484</td>\n",
       "    </tr>\n",
       "    <tr>\n",
       "      <th>68</th>\n",
       "      <td>2017-12-31</td>\n",
       "      <td>0.682516</td>\n",
       "      <td>1.106164</td>\n",
       "      <td>1.142060</td>\n",
       "      <td>0.676789</td>\n",
       "      <td>0.688352</td>\n",
       "      <td>0.440885</td>\n",
       "      <td>0.440885</td>\n",
       "      <td>0.440885</td>\n",
       "      <td>0.440885</td>\n",
       "      <td>0.440885</td>\n",
       "      <td>0.440885</td>\n",
       "      <td>0.0</td>\n",
       "      <td>0.0</td>\n",
       "      <td>0.0</td>\n",
       "      <td>1.123401</td>\n",
       "    </tr>\n",
       "    <tr>\n",
       "      <th>69</th>\n",
       "      <td>2018-12-31</td>\n",
       "      <td>0.692019</td>\n",
       "      <td>1.129081</td>\n",
       "      <td>1.164992</td>\n",
       "      <td>0.684931</td>\n",
       "      <td>0.699195</td>\n",
       "      <td>0.454661</td>\n",
       "      <td>0.454661</td>\n",
       "      <td>0.454661</td>\n",
       "      <td>0.454661</td>\n",
       "      <td>0.454661</td>\n",
       "      <td>0.454661</td>\n",
       "      <td>0.0</td>\n",
       "      <td>0.0</td>\n",
       "      <td>0.0</td>\n",
       "      <td>1.146680</td>\n",
       "    </tr>\n",
       "    <tr>\n",
       "      <th>70</th>\n",
       "      <td>2019-12-31</td>\n",
       "      <td>0.701522</td>\n",
       "      <td>1.155277</td>\n",
       "      <td>1.192867</td>\n",
       "      <td>0.693166</td>\n",
       "      <td>0.710088</td>\n",
       "      <td>0.471773</td>\n",
       "      <td>0.471773</td>\n",
       "      <td>0.471773</td>\n",
       "      <td>0.471773</td>\n",
       "      <td>0.471773</td>\n",
       "      <td>0.471773</td>\n",
       "      <td>0.0</td>\n",
       "      <td>0.0</td>\n",
       "      <td>0.0</td>\n",
       "      <td>1.173295</td>\n",
       "    </tr>\n",
       "    <tr>\n",
       "      <th>71</th>\n",
       "      <td>2020-12-31</td>\n",
       "      <td>0.711051</td>\n",
       "      <td>1.121983</td>\n",
       "      <td>1.161841</td>\n",
       "      <td>0.701238</td>\n",
       "      <td>0.721233</td>\n",
       "      <td>0.430472</td>\n",
       "      <td>0.430472</td>\n",
       "      <td>0.430472</td>\n",
       "      <td>0.430472</td>\n",
       "      <td>0.430472</td>\n",
       "      <td>0.430472</td>\n",
       "      <td>0.0</td>\n",
       "      <td>0.0</td>\n",
       "      <td>0.0</td>\n",
       "      <td>1.141523</td>\n",
       "    </tr>\n",
       "  </tbody>\n",
       "</table>\n",
       "<p>72 rows × 16 columns</p>\n",
       "</div>"
      ],
      "text/plain": [
       "           ds     trend  yhat_lower  yhat_upper  trend_lower  trend_upper  \\\n",
       "0  1950-01-01  0.199012    0.600812    0.634553     0.199012     0.199012   \n",
       "1  1951-01-01  0.206123    0.609234    0.641968     0.206123     0.206123   \n",
       "2  1952-01-01  0.213234    0.619470    0.652796     0.213234     0.213234   \n",
       "3  1953-01-01  0.220365    0.625847    0.659211     0.220365     0.220365   \n",
       "4  1954-01-01  0.227476    0.630512    0.663562     0.227476     0.227476   \n",
       "..        ...       ...         ...         ...          ...          ...   \n",
       "67 2016-12-31  0.673013    1.085980    1.121532     0.668381     0.677630   \n",
       "68 2017-12-31  0.682516    1.106164    1.142060     0.676789     0.688352   \n",
       "69 2018-12-31  0.692019    1.129081    1.164992     0.684931     0.699195   \n",
       "70 2019-12-31  0.701522    1.155277    1.192867     0.693166     0.710088   \n",
       "71 2020-12-31  0.711051    1.121983    1.161841     0.701238     0.721233   \n",
       "\n",
       "    additive_terms  additive_terms_lower  additive_terms_upper    yearly  \\\n",
       "0         0.419599              0.419599              0.419599  0.419599   \n",
       "1         0.419816              0.419816              0.419816  0.419816   \n",
       "2         0.423444              0.423444              0.423444  0.423444   \n",
       "3         0.422795              0.422795              0.422795  0.422795   \n",
       "4         0.419599              0.419599              0.419599  0.419599   \n",
       "..             ...                   ...                   ...       ...   \n",
       "67        0.430472              0.430472              0.430472  0.430472   \n",
       "68        0.440885              0.440885              0.440885  0.440885   \n",
       "69        0.454661              0.454661              0.454661  0.454661   \n",
       "70        0.471773              0.471773              0.471773  0.471773   \n",
       "71        0.430472              0.430472              0.430472  0.430472   \n",
       "\n",
       "    yearly_lower  yearly_upper  multiplicative_terms  \\\n",
       "0       0.419599      0.419599                   0.0   \n",
       "1       0.419816      0.419816                   0.0   \n",
       "2       0.423444      0.423444                   0.0   \n",
       "3       0.422795      0.422795                   0.0   \n",
       "4       0.419599      0.419599                   0.0   \n",
       "..           ...           ...                   ...   \n",
       "67      0.430472      0.430472                   0.0   \n",
       "68      0.440885      0.440885                   0.0   \n",
       "69      0.454661      0.454661                   0.0   \n",
       "70      0.471773      0.471773                   0.0   \n",
       "71      0.430472      0.430472                   0.0   \n",
       "\n",
       "    multiplicative_terms_lower  multiplicative_terms_upper      yhat  \n",
       "0                          0.0                         0.0  0.618611  \n",
       "1                          0.0                         0.0  0.625940  \n",
       "2                          0.0                         0.0  0.636678  \n",
       "3                          0.0                         0.0  0.643160  \n",
       "4                          0.0                         0.0  0.647075  \n",
       "..                         ...                         ...       ...  \n",
       "67                         0.0                         0.0  1.103484  \n",
       "68                         0.0                         0.0  1.123401  \n",
       "69                         0.0                         0.0  1.146680  \n",
       "70                         0.0                         0.0  1.173295  \n",
       "71                         0.0                         0.0  1.141523  \n",
       "\n",
       "[72 rows x 16 columns]"
      ]
     },
     "execution_count": 39,
     "metadata": {},
     "output_type": "execute_result"
    }
   ],
   "source": [
    "forecast"
   ]
  },
  {
   "cell_type": "code",
   "execution_count": null,
   "metadata": {},
   "outputs": [],
   "source": []
  }
 ],
 "metadata": {
  "kernelspec": {
   "display_name": "Python 3",
   "language": "python",
   "name": "python3"
  },
  "language_info": {
   "codemirror_mode": {
    "name": "ipython",
    "version": 3
   },
   "file_extension": ".py",
   "mimetype": "text/x-python",
   "name": "python",
   "nbconvert_exporter": "python",
   "pygments_lexer": "ipython3",
   "version": "3.7.6"
  },
  "nbTranslate": {
   "displayLangs": [
    "*"
   ],
   "hotkey": "alt-t",
   "langInMainMenu": true,
   "sourceLang": "en",
   "targetLang": "fr",
   "useGoogleTranslate": true
  },
  "toc": {
   "base_numbering": 1,
   "nav_menu": {},
   "number_sections": true,
   "sideBar": true,
   "skip_h1_title": false,
   "title_cell": "Table of Contents",
   "title_sidebar": "Contents",
   "toc_cell": false,
   "toc_position": {
    "height": "calc(100% - 180px)",
    "left": "10px",
    "top": "150px",
    "width": "303.542px"
   },
   "toc_section_display": true,
   "toc_window_display": true
  }
 },
 "nbformat": 4,
 "nbformat_minor": 4
}
